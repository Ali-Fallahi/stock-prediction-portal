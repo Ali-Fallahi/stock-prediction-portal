{
 "cells": [
  {
   "cell_type": "code",
   "execution_count": 178,
   "id": "295b302f-e012-40ff-a150-cf2d3cc16359",
   "metadata": {},
   "outputs": [],
   "source": [
    "import numpy as np"
   ]
  },
  {
   "cell_type": "code",
   "execution_count": 179,
   "id": "8f010903-c56c-41e9-b193-d8f1f009f5b9",
   "metadata": {},
   "outputs": [
    {
     "data": {
      "text/plain": [
       "'2.3.1'"
      ]
     },
     "execution_count": 179,
     "metadata": {},
     "output_type": "execute_result"
    }
   ],
   "source": [
    "np.__version__"
   ]
  },
  {
   "cell_type": "markdown",
   "id": "f43f3f67-718b-4120-902f-684966ebf07c",
   "metadata": {},
   "source": [
    "## Create & Read"
   ]
  },
  {
   "cell_type": "code",
   "execution_count": 180,
   "id": "9f86257d-04db-440d-a0eb-6525b38e5ab1",
   "metadata": {},
   "outputs": [],
   "source": [
    "arr1 = np.array([1,2,3,4,5,6])"
   ]
  },
  {
   "cell_type": "code",
   "execution_count": 181,
   "id": "e5d1d23b-7f3c-45a6-82ca-b7ce05427d93",
   "metadata": {},
   "outputs": [
    {
     "data": {
      "text/plain": [
       "array([1, 2, 3, 4, 5, 6])"
      ]
     },
     "execution_count": 181,
     "metadata": {},
     "output_type": "execute_result"
    }
   ],
   "source": [
    "arr1"
   ]
  },
  {
   "cell_type": "code",
   "execution_count": 182,
   "id": "857eae22-6a8f-42ec-ba16-4a210881eb5b",
   "metadata": {},
   "outputs": [
    {
     "data": {
      "text/plain": [
       "numpy.ndarray"
      ]
     },
     "execution_count": 182,
     "metadata": {},
     "output_type": "execute_result"
    }
   ],
   "source": [
    "type(arr1)"
   ]
  },
  {
   "cell_type": "code",
   "execution_count": 183,
   "id": "9b047ff4-a1c8-4ed6-a7d1-281b13ab30b3",
   "metadata": {},
   "outputs": [
    {
     "data": {
      "text/plain": [
       "(6,)"
      ]
     },
     "execution_count": 183,
     "metadata": {},
     "output_type": "execute_result"
    }
   ],
   "source": [
    "arr1.shape"
   ]
  },
  {
   "cell_type": "code",
   "execution_count": 184,
   "id": "e2778faf-9d6d-4c9d-8229-7f28bbafb4df",
   "metadata": {},
   "outputs": [
    {
     "data": {
      "text/plain": [
       "dtype('int64')"
      ]
     },
     "execution_count": 184,
     "metadata": {},
     "output_type": "execute_result"
    }
   ],
   "source": [
    "arr1.dtype"
   ]
  },
  {
   "cell_type": "code",
   "execution_count": 185,
   "id": "1f5357bd-2fef-43a5-9e2e-6e484a457f1e",
   "metadata": {},
   "outputs": [
    {
     "data": {
      "text/plain": [
       "1"
      ]
     },
     "execution_count": 185,
     "metadata": {},
     "output_type": "execute_result"
    }
   ],
   "source": [
    "arr1.ndim"
   ]
  },
  {
   "cell_type": "code",
   "execution_count": 186,
   "id": "86060137-37a9-4d48-989a-53a403beec65",
   "metadata": {},
   "outputs": [
    {
     "data": {
      "text/plain": [
       "6"
      ]
     },
     "execution_count": 186,
     "metadata": {},
     "output_type": "execute_result"
    }
   ],
   "source": [
    "arr1.size"
   ]
  },
  {
   "cell_type": "code",
   "execution_count": 187,
   "id": "b19d04bc-a8d1-4ed8-8824-48af0e4e72a9",
   "metadata": {},
   "outputs": [],
   "source": [
    "arr2 = np.array([[1,4,5],[6,7,4]])"
   ]
  },
  {
   "cell_type": "code",
   "execution_count": 188,
   "id": "7d2bd6f4-b3d7-476b-87bb-d2cd57b6b4c5",
   "metadata": {},
   "outputs": [
    {
     "data": {
      "text/plain": [
       "array([[1, 4, 5],\n",
       "       [6, 7, 4]])"
      ]
     },
     "execution_count": 188,
     "metadata": {},
     "output_type": "execute_result"
    }
   ],
   "source": [
    "arr2"
   ]
  },
  {
   "cell_type": "code",
   "execution_count": 189,
   "id": "ac0d78b6-fe42-40fc-9d6a-58616a3eb73e",
   "metadata": {},
   "outputs": [
    {
     "data": {
      "text/plain": [
       "(2, 3)"
      ]
     },
     "execution_count": 189,
     "metadata": {},
     "output_type": "execute_result"
    }
   ],
   "source": [
    "arr2.shape # (row, col)"
   ]
  },
  {
   "cell_type": "code",
   "execution_count": 190,
   "id": "a2c8e6e1-bdea-497a-a5b4-91a2c143cae2",
   "metadata": {},
   "outputs": [
    {
     "data": {
      "text/plain": [
       "dtype('int64')"
      ]
     },
     "execution_count": 190,
     "metadata": {},
     "output_type": "execute_result"
    }
   ],
   "source": [
    "arr2.dtype"
   ]
  },
  {
   "cell_type": "code",
   "execution_count": 191,
   "id": "a3630c83-2fc8-4358-837e-f31fe49b18ff",
   "metadata": {},
   "outputs": [
    {
     "data": {
      "text/plain": [
       "2"
      ]
     },
     "execution_count": 191,
     "metadata": {},
     "output_type": "execute_result"
    }
   ],
   "source": [
    "arr2.ndim"
   ]
  },
  {
   "cell_type": "code",
   "execution_count": 192,
   "id": "8976cff0-8c51-4a49-a8a4-4e3c72196687",
   "metadata": {},
   "outputs": [
    {
     "data": {
      "text/plain": [
       "6"
      ]
     },
     "execution_count": 192,
     "metadata": {},
     "output_type": "execute_result"
    }
   ],
   "source": [
    "arr2.size"
   ]
  },
  {
   "cell_type": "markdown",
   "id": "e4f25591-46cb-40af-9c3f-dfaa0a094f0a",
   "metadata": {},
   "source": [
    "#### 3D Array"
   ]
  },
  {
   "cell_type": "code",
   "execution_count": 193,
   "id": "3b443111-32f0-47b0-a7d3-ed3b59831b51",
   "metadata": {},
   "outputs": [],
   "source": [
    "arr3 = np.array([[[1,4,5],[6,7,4]],[[3,5,4],[5,8,7]],[[1,4,5],[6,7,4]]])"
   ]
  },
  {
   "cell_type": "code",
   "execution_count": 194,
   "id": "d40e51c0-0025-45b0-8ab7-c5504083e74b",
   "metadata": {},
   "outputs": [
    {
     "data": {
      "text/plain": [
       "array([[[1, 4, 5],\n",
       "        [6, 7, 4]],\n",
       "\n",
       "       [[3, 5, 4],\n",
       "        [5, 8, 7]],\n",
       "\n",
       "       [[1, 4, 5],\n",
       "        [6, 7, 4]]])"
      ]
     },
     "execution_count": 194,
     "metadata": {},
     "output_type": "execute_result"
    }
   ],
   "source": [
    "arr3"
   ]
  },
  {
   "cell_type": "code",
   "execution_count": 195,
   "id": "818d8338-5930-4bf9-827b-286c5b2ed7eb",
   "metadata": {},
   "outputs": [
    {
     "data": {
      "text/plain": [
       "3"
      ]
     },
     "execution_count": 195,
     "metadata": {},
     "output_type": "execute_result"
    }
   ],
   "source": [
    "arr3.ndim"
   ]
  },
  {
   "cell_type": "code",
   "execution_count": 196,
   "id": "55d1012e-a243-47cd-9622-f3a13d047a68",
   "metadata": {},
   "outputs": [
    {
     "data": {
      "text/plain": [
       "(3, 2, 3)"
      ]
     },
     "execution_count": 196,
     "metadata": {},
     "output_type": "execute_result"
    }
   ],
   "source": [
    "arr3.shape"
   ]
  },
  {
   "cell_type": "markdown",
   "id": "9815cb43-877c-4b1a-b23f-93d0c640fcd2",
   "metadata": {},
   "source": [
    "#### Create random array"
   ]
  },
  {
   "cell_type": "code",
   "execution_count": 197,
   "id": "208c6343-08c3-435b-933e-5664cd4cd0f6",
   "metadata": {},
   "outputs": [],
   "source": [
    "randomArr = np.random.rand(3,2,3)"
   ]
  },
  {
   "cell_type": "code",
   "execution_count": 198,
   "id": "962e4513-d660-43ba-9115-fb60f287a17d",
   "metadata": {},
   "outputs": [
    {
     "data": {
      "text/plain": [
       "array([[[0.32479303, 0.83570573, 0.78835059],\n",
       "        [0.02185034, 0.52184692, 0.63693417]],\n",
       "\n",
       "       [[0.53677104, 0.48818115, 0.00419811],\n",
       "        [0.0464514 , 0.21068171, 0.92933665]],\n",
       "\n",
       "       [[0.10420127, 0.13453233, 0.36265144],\n",
       "        [0.19048945, 0.19750443, 0.01527238]]])"
      ]
     },
     "execution_count": 198,
     "metadata": {},
     "output_type": "execute_result"
    }
   ],
   "source": [
    "randomArr"
   ]
  },
  {
   "cell_type": "code",
   "execution_count": 199,
   "id": "cf20ebc8-8bad-4601-b10d-e4b301fa8dde",
   "metadata": {},
   "outputs": [
    {
     "data": {
      "text/plain": [
       "dtype('float64')"
      ]
     },
     "execution_count": 199,
     "metadata": {},
     "output_type": "execute_result"
    }
   ],
   "source": [
    "randomArr.dtype"
   ]
  },
  {
   "cell_type": "code",
   "execution_count": 200,
   "id": "72e5da32-e6e9-4a88-94cb-11fbec52fe78",
   "metadata": {},
   "outputs": [],
   "source": [
    "zeros = np.zeros((3,2,3))"
   ]
  },
  {
   "cell_type": "code",
   "execution_count": 201,
   "id": "f4100ffc-8989-4e8d-8b03-70e92814d86e",
   "metadata": {},
   "outputs": [
    {
     "data": {
      "text/plain": [
       "array([[[0., 0., 0.],\n",
       "        [0., 0., 0.]],\n",
       "\n",
       "       [[0., 0., 0.],\n",
       "        [0., 0., 0.]],\n",
       "\n",
       "       [[0., 0., 0.],\n",
       "        [0., 0., 0.]]])"
      ]
     },
     "execution_count": 201,
     "metadata": {},
     "output_type": "execute_result"
    }
   ],
   "source": [
    "zeros"
   ]
  },
  {
   "cell_type": "code",
   "execution_count": 202,
   "id": "bc94d018-0b2c-4acf-bddd-d23d9f0b7dd2",
   "metadata": {},
   "outputs": [
    {
     "data": {
      "text/plain": [
       "3"
      ]
     },
     "execution_count": 202,
     "metadata": {},
     "output_type": "execute_result"
    }
   ],
   "source": [
    "zeros.ndim"
   ]
  },
  {
   "cell_type": "code",
   "execution_count": 203,
   "id": "15566270-8bcb-48c5-bccb-6f2fb25e2537",
   "metadata": {},
   "outputs": [],
   "source": [
    "full = np.full((3,2,3),8)"
   ]
  },
  {
   "cell_type": "code",
   "execution_count": 204,
   "id": "5ea38038-32d3-4210-bc19-fff611c350a0",
   "metadata": {},
   "outputs": [
    {
     "data": {
      "text/plain": [
       "array([[[8, 8, 8],\n",
       "        [8, 8, 8]],\n",
       "\n",
       "       [[8, 8, 8],\n",
       "        [8, 8, 8]],\n",
       "\n",
       "       [[8, 8, 8],\n",
       "        [8, 8, 8]]])"
      ]
     },
     "execution_count": 204,
     "metadata": {},
     "output_type": "execute_result"
    }
   ],
   "source": [
    "full"
   ]
  },
  {
   "cell_type": "code",
   "execution_count": 205,
   "id": "83946aee-0846-43df-b8b0-063df251e6ef",
   "metadata": {},
   "outputs": [],
   "source": [
    "ones = np.ones((3,2,3))"
   ]
  },
  {
   "cell_type": "code",
   "execution_count": 206,
   "id": "8bf01f28-a3cc-4c3f-a3c7-9a3a38824659",
   "metadata": {},
   "outputs": [
    {
     "data": {
      "text/plain": [
       "array([[[1., 1., 1.],\n",
       "        [1., 1., 1.]],\n",
       "\n",
       "       [[1., 1., 1.],\n",
       "        [1., 1., 1.]],\n",
       "\n",
       "       [[1., 1., 1.],\n",
       "        [1., 1., 1.]]])"
      ]
     },
     "execution_count": 206,
     "metadata": {},
     "output_type": "execute_result"
    }
   ],
   "source": [
    "ones"
   ]
  },
  {
   "cell_type": "code",
   "execution_count": 207,
   "id": "a4bb966a-1235-4b05-a3fe-18e09eaa3c37",
   "metadata": {},
   "outputs": [
    {
     "data": {
      "text/plain": [
       "array([[[1, 4, 5],\n",
       "        [6, 7, 4]],\n",
       "\n",
       "       [[3, 5, 4],\n",
       "        [5, 8, 7]],\n",
       "\n",
       "       [[1, 4, 5],\n",
       "        [6, 7, 4]]])"
      ]
     },
     "execution_count": 207,
     "metadata": {},
     "output_type": "execute_result"
    }
   ],
   "source": [
    "arr3"
   ]
  },
  {
   "cell_type": "code",
   "execution_count": 208,
   "id": "1d239a9b-cd73-4fa5-8c31-2335963be1e2",
   "metadata": {},
   "outputs": [
    {
     "data": {
      "text/plain": [
       "array([[1, 4, 5],\n",
       "       [6, 7, 4]])"
      ]
     },
     "execution_count": 208,
     "metadata": {},
     "output_type": "execute_result"
    }
   ],
   "source": [
    "arr3[0]"
   ]
  },
  {
   "cell_type": "code",
   "execution_count": 209,
   "id": "7e92ea51-6363-43a1-9309-5ce906f945c3",
   "metadata": {},
   "outputs": [
    {
     "data": {
      "text/plain": [
       "np.int64(1)"
      ]
     },
     "execution_count": 209,
     "metadata": {},
     "output_type": "execute_result"
    }
   ],
   "source": [
    "arr3[0][0][0]"
   ]
  },
  {
   "cell_type": "code",
   "execution_count": 210,
   "id": "21718c8c-1f17-4614-b751-1987fc003f89",
   "metadata": {},
   "outputs": [
    {
     "data": {
      "text/plain": [
       "array([[[1, 4, 5],\n",
       "        [6, 7, 4]],\n",
       "\n",
       "       [[3, 5, 4],\n",
       "        [5, 8, 7]]])"
      ]
     },
     "execution_count": 210,
     "metadata": {},
     "output_type": "execute_result"
    }
   ],
   "source": [
    "arr3[0:2]"
   ]
  },
  {
   "cell_type": "code",
   "execution_count": 211,
   "id": "d05d1335-7ca9-493a-86ac-bf37524a855f",
   "metadata": {},
   "outputs": [
    {
     "data": {
      "text/plain": [
       "array([[1, 4, 5],\n",
       "       [6, 7, 4]])"
      ]
     },
     "execution_count": 211,
     "metadata": {},
     "output_type": "execute_result"
    }
   ],
   "source": [
    "arr3[-1]"
   ]
  },
  {
   "cell_type": "code",
   "execution_count": 212,
   "id": "ecd1accb-878c-4f5e-b52b-e5a9d8ee593c",
   "metadata": {},
   "outputs": [
    {
     "data": {
      "text/plain": [
       "np.int64(5)"
      ]
     },
     "execution_count": 212,
     "metadata": {},
     "output_type": "execute_result"
    }
   ],
   "source": [
    "arr3[1][0][1]"
   ]
  },
  {
   "cell_type": "markdown",
   "id": "d81103d3-754e-41bc-a639-512453027221",
   "metadata": {},
   "source": [
    "### Create random array"
   ]
  },
  {
   "cell_type": "code",
   "execution_count": 213,
   "id": "3e474768-5d9f-42a0-8068-29dbdefb1005",
   "metadata": {},
   "outputs": [
    {
     "data": {
      "text/plain": [
       "array([[[0.64024365, 0.17295874, 0.60241954],\n",
       "        [0.23665877, 0.25373204, 0.72836393]],\n",
       "\n",
       "       [[0.346379  , 0.49726281, 0.13050243],\n",
       "        [0.20390495, 0.62017348, 0.56242728]],\n",
       "\n",
       "       [[0.94425309, 0.24621433, 0.04170324],\n",
       "        [0.12417759, 0.75610906, 0.38941408]]])"
      ]
     },
     "execution_count": 213,
     "metadata": {},
     "output_type": "execute_result"
    }
   ],
   "source": [
    "randomArr = np.random.rand(3, 2, 3)\n",
    "randomArr"
   ]
  },
  {
   "cell_type": "code",
   "execution_count": 214,
   "id": "9d92239c-0657-44b7-838d-721ec8d053f7",
   "metadata": {},
   "outputs": [
    {
     "data": {
      "text/plain": [
       "dtype('float64')"
      ]
     },
     "execution_count": 214,
     "metadata": {},
     "output_type": "execute_result"
    }
   ],
   "source": [
    "randomArr.dtype"
   ]
  },
  {
   "cell_type": "markdown",
   "id": "226b605e-e7c4-464e-b0cd-a9934b787558",
   "metadata": {},
   "source": [
    "### Update & Delete"
   ]
  },
  {
   "cell_type": "code",
   "execution_count": 215,
   "id": "23d30206-a33e-45a6-8a84-fb3403335352",
   "metadata": {},
   "outputs": [],
   "source": [
    "a1 = np.random.rand(2,3,2)\n",
    "a2 = np.random.rand(2,3,2)"
   ]
  },
  {
   "cell_type": "code",
   "execution_count": 216,
   "id": "8c4da564-1f90-4c3e-9652-fdfc0aed9ad8",
   "metadata": {},
   "outputs": [
    {
     "data": {
      "text/plain": [
       "array([[[0.39891099, 0.19526464],\n",
       "        [0.93264762, 0.1985802 ],\n",
       "        [0.16677616, 0.19660434]],\n",
       "\n",
       "       [[0.17741139, 0.87746733],\n",
       "        [0.80341472, 0.67433683],\n",
       "        [0.90125138, 0.65442845]]])"
      ]
     },
     "execution_count": 216,
     "metadata": {},
     "output_type": "execute_result"
    }
   ],
   "source": [
    "a1"
   ]
  },
  {
   "cell_type": "code",
   "execution_count": 217,
   "id": "0192ba24-420e-4732-ad78-956ac56b3290",
   "metadata": {},
   "outputs": [
    {
     "data": {
      "text/plain": [
       "array([[[0.91453543, 0.9719218 ],\n",
       "        [0.19282482, 0.87673181],\n",
       "        [0.89857901, 0.88290444]],\n",
       "\n",
       "       [[0.25581682, 0.3721724 ],\n",
       "        [0.37053293, 0.60698497],\n",
       "        [0.9035099 , 0.48489377]]])"
      ]
     },
     "execution_count": 217,
     "metadata": {},
     "output_type": "execute_result"
    }
   ],
   "source": [
    "a2"
   ]
  },
  {
   "cell_type": "markdown",
   "id": "167d2415-468e-4941-8577-f78a55062066",
   "metadata": {},
   "source": [
    "### Basic Math Operations"
   ]
  },
  {
   "cell_type": "code",
   "execution_count": 218,
   "id": "a91c6c4f-9026-4c3e-b2ad-b6ba345c6b05",
   "metadata": {},
   "outputs": [
    {
     "data": {
      "text/plain": [
       "array([[[1.31344643, 1.16718644],\n",
       "        [1.12547244, 1.07531201],\n",
       "        [1.06535517, 1.07950877]],\n",
       "\n",
       "       [[0.43322821, 1.24963972],\n",
       "        [1.17394764, 1.2813218 ],\n",
       "        [1.80476128, 1.13932222]]])"
      ]
     },
     "execution_count": 218,
     "metadata": {},
     "output_type": "execute_result"
    }
   ],
   "source": [
    "np.add(a1,a2)"
   ]
  },
  {
   "cell_type": "code",
   "execution_count": 219,
   "id": "47dc9675-72cb-4ef3-8ba8-fcbc5656e8f2",
   "metadata": {},
   "outputs": [
    {
     "data": {
      "text/plain": [
       "array([[[-0.51562444, -0.77665717],\n",
       "        [ 0.7398228 , -0.6781516 ],\n",
       "        [-0.73180285, -0.6863001 ]],\n",
       "\n",
       "       [[-0.07840542,  0.50529493],\n",
       "        [ 0.43288179,  0.06735186],\n",
       "        [-0.00225852,  0.16953468]]])"
      ]
     },
     "execution_count": 219,
     "metadata": {},
     "output_type": "execute_result"
    }
   ],
   "source": [
    "np.subtract(a1,a2)"
   ]
  },
  {
   "cell_type": "code",
   "execution_count": 220,
   "id": "2d6242c1-4669-4da2-89dc-4276cf242288",
   "metadata": {},
   "outputs": [
    {
     "data": {
      "text/plain": [
       "array([[[0.43618976, 0.20090571],\n",
       "        [4.83676131, 0.22650051],\n",
       "        [0.18559989, 0.22267907]],\n",
       "\n",
       "       [[0.6935095 , 2.35769051],\n",
       "        [2.16826809, 1.11096134],\n",
       "        [0.99750028, 1.34963262]]])"
      ]
     },
     "execution_count": 220,
     "metadata": {},
     "output_type": "execute_result"
    }
   ],
   "source": [
    "np.divide(a1,a2)"
   ]
  },
  {
   "cell_type": "code",
   "execution_count": 221,
   "id": "5a76219e-80c2-4c86-90d3-bf997481e2e8",
   "metadata": {},
   "outputs": [
    {
     "data": {
      "text/plain": [
       "array([[[0.36481824, 0.18978196],\n",
       "        [0.17983761, 0.17410158],\n",
       "        [0.14986156, 0.17358284]],\n",
       "\n",
       "       [[0.04538482, 0.32656912],\n",
       "        [0.29769161, 0.40931232],\n",
       "        [0.81428955, 0.31732828]]])"
      ]
     },
     "execution_count": 221,
     "metadata": {},
     "output_type": "execute_result"
    }
   ],
   "source": [
    "np.multiply(a1,a2)"
   ]
  },
  {
   "cell_type": "code",
   "execution_count": 222,
   "id": "9167fe87-ce11-49d8-add3-ad2b2643d921",
   "metadata": {},
   "outputs": [],
   "source": [
    "sqrt = np.sqrt(25)\n",
    "abs = np.abs(-2)\n",
    "power = np.power(2,8)\n",
    "log = np. log(25)\n",
    "mins = np.min(a1)\n",
    "maxs = np.max(a2)"
   ]
  },
  {
   "cell_type": "code",
   "execution_count": 223,
   "id": "997e44fa-72e7-4e57-875f-e0df8b8585ff",
   "metadata": {},
   "outputs": [
    {
     "data": {
      "text/plain": [
       "np.float64(5.0)"
      ]
     },
     "execution_count": 223,
     "metadata": {},
     "output_type": "execute_result"
    }
   ],
   "source": [
    "sqrt"
   ]
  },
  {
   "cell_type": "code",
   "execution_count": 224,
   "id": "f2dc886e-7171-476b-9640-97740cc98e3c",
   "metadata": {},
   "outputs": [
    {
     "data": {
      "text/plain": [
       "np.int64(2)"
      ]
     },
     "execution_count": 224,
     "metadata": {},
     "output_type": "execute_result"
    }
   ],
   "source": [
    "abs"
   ]
  },
  {
   "cell_type": "code",
   "execution_count": 225,
   "id": "1ce54372-8e49-4ee0-a956-d84247d9c74a",
   "metadata": {},
   "outputs": [
    {
     "data": {
      "text/plain": [
       "np.int64(256)"
      ]
     },
     "execution_count": 225,
     "metadata": {},
     "output_type": "execute_result"
    }
   ],
   "source": [
    "power"
   ]
  },
  {
   "cell_type": "code",
   "execution_count": 226,
   "id": "ce4433b3-df80-474e-840b-58a2835bb518",
   "metadata": {},
   "outputs": [
    {
     "data": {
      "text/plain": [
       "np.float64(3.2188758248682006)"
      ]
     },
     "execution_count": 226,
     "metadata": {},
     "output_type": "execute_result"
    }
   ],
   "source": [
    "log"
   ]
  },
  {
   "cell_type": "code",
   "execution_count": 227,
   "id": "2b62e80c-9793-4be3-8f73-2b6e50ce89c7",
   "metadata": {},
   "outputs": [
    {
     "data": {
      "text/plain": [
       "np.float64(0.1667761627018216)"
      ]
     },
     "execution_count": 227,
     "metadata": {},
     "output_type": "execute_result"
    }
   ],
   "source": [
    "mins"
   ]
  },
  {
   "cell_type": "code",
   "execution_count": 228,
   "id": "4ead88b5-6564-42d7-8b01-b06264e60410",
   "metadata": {},
   "outputs": [
    {
     "data": {
      "text/plain": [
       "np.float64(0.97192180363423)"
      ]
     },
     "execution_count": 228,
     "metadata": {},
     "output_type": "execute_result"
    }
   ],
   "source": [
    "maxs"
   ]
  },
  {
   "cell_type": "markdown",
   "id": "6ce0c1c9-446d-4163-8d63-7f58ac8610dc",
   "metadata": {},
   "source": [
    "### Update"
   ]
  },
  {
   "cell_type": "code",
   "execution_count": 229,
   "id": "c2c9c738-90ea-41da-bde5-4c2f1e1ef949",
   "metadata": {},
   "outputs": [
    {
     "data": {
      "text/plain": [
       "array([[[1, 4, 5],\n",
       "        [6, 7, 4]],\n",
       "\n",
       "       [[3, 5, 4],\n",
       "        [5, 8, 7]],\n",
       "\n",
       "       [[1, 4, 5],\n",
       "        [6, 7, 4]]])"
      ]
     },
     "execution_count": 229,
     "metadata": {},
     "output_type": "execute_result"
    }
   ],
   "source": [
    "arr3"
   ]
  },
  {
   "cell_type": "code",
   "execution_count": 230,
   "id": "a6226d73-0a06-40df-9a7f-32e3f3c99f6b",
   "metadata": {},
   "outputs": [
    {
     "data": {
      "text/plain": [
       "array([[[  1,   4, 500],\n",
       "        [  6,   7,   4]],\n",
       "\n",
       "       [[  3,   5,   4],\n",
       "        [  5,   8,   7]],\n",
       "\n",
       "       [[  1,   4,   5],\n",
       "        [  6,   7,   4]]])"
      ]
     },
     "execution_count": 230,
     "metadata": {},
     "output_type": "execute_result"
    }
   ],
   "source": [
    "arr3[0,0,2] = 500\n",
    "arr3"
   ]
  },
  {
   "cell_type": "code",
   "execution_count": 231,
   "id": "5099fae6-21fb-49eb-9a30-e94c2ebaa571",
   "metadata": {},
   "outputs": [
    {
     "data": {
      "text/plain": [
       "array([[[  1,   4, 500],\n",
       "        [  4,   6,   7]],\n",
       "\n",
       "       [[  3,   4,   5],\n",
       "        [  5,   7,   8]],\n",
       "\n",
       "       [[  1,   4,   5],\n",
       "        [  4,   6,   7]]])"
      ]
     },
     "execution_count": 231,
     "metadata": {},
     "output_type": "execute_result"
    }
   ],
   "source": [
    "arr3.sort()\n",
    "arr3"
   ]
  },
  {
   "cell_type": "code",
   "execution_count": 232,
   "id": "c0ae73a2-eb29-49ac-9084-05a761c17f5b",
   "metadata": {},
   "outputs": [
    {
     "data": {
      "text/plain": [
       "(3, 2, 3)"
      ]
     },
     "execution_count": 232,
     "metadata": {},
     "output_type": "execute_result"
    }
   ],
   "source": [
    "# Reshape\n",
    "arr3.shape"
   ]
  },
  {
   "cell_type": "code",
   "execution_count": 233,
   "id": "f8a4d83a-5c9f-4b24-bd77-825b0e52ca0a",
   "metadata": {},
   "outputs": [
    {
     "data": {
      "text/plain": [
       "array([[[  1,   4, 500],\n",
       "        [  4,   6,   7],\n",
       "        [  3,   4,   5]],\n",
       "\n",
       "       [[  5,   7,   8],\n",
       "        [  1,   4,   5],\n",
       "        [  4,   6,   7]]])"
      ]
     },
     "execution_count": 233,
     "metadata": {},
     "output_type": "execute_result"
    }
   ],
   "source": [
    "arr3_reshape = arr3.reshape((2,3,3))\n",
    "arr3_reshape"
   ]
  },
  {
   "cell_type": "markdown",
   "id": "808bfe81-a748-4ef1-8bbe-53364635065e",
   "metadata": {},
   "source": [
    "#### Appending & Inserting"
   ]
  },
  {
   "cell_type": "code",
   "execution_count": 234,
   "id": "a8a27794-a7fc-4cb8-abec-b36830e061be",
   "metadata": {},
   "outputs": [],
   "source": [
    "zeroes = np.zeros((3,2,3))"
   ]
  },
  {
   "cell_type": "code",
   "execution_count": 235,
   "id": "3d33c401-6ba9-4f4c-bf26-31bf9a33b0be",
   "metadata": {},
   "outputs": [
    {
     "data": {
      "text/plain": [
       "array([[[0., 0., 0.],\n",
       "        [0., 0., 0.]],\n",
       "\n",
       "       [[0., 0., 0.],\n",
       "        [0., 0., 0.]],\n",
       "\n",
       "       [[0., 0., 0.],\n",
       "        [0., 0., 0.]]])"
      ]
     },
     "execution_count": 235,
     "metadata": {},
     "output_type": "execute_result"
    }
   ],
   "source": [
    "zeroes "
   ]
  },
  {
   "cell_type": "code",
   "execution_count": 236,
   "id": "276852c8-9fe0-41e4-9dc9-3da4453aade5",
   "metadata": {},
   "outputs": [
    {
     "data": {
      "text/plain": [
       "array([[[1., 1., 1.],\n",
       "        [1., 1., 1.]],\n",
       "\n",
       "       [[1., 1., 1.],\n",
       "        [1., 1., 1.]],\n",
       "\n",
       "       [[1., 1., 1.],\n",
       "        [1., 1., 1.]]])"
      ]
     },
     "execution_count": 236,
     "metadata": {},
     "output_type": "execute_result"
    }
   ],
   "source": [
    "# Create a new array\n",
    "new_array = np.ones((3,2,3))\n",
    "new_array"
   ]
  },
  {
   "cell_type": "code",
   "execution_count": 237,
   "id": "8ce958eb-6de7-4489-ba86-bfe565c8da39",
   "metadata": {},
   "outputs": [
    {
     "data": {
      "text/plain": [
       "array([[[0., 0., 0.],\n",
       "        [0., 0., 0.]],\n",
       "\n",
       "       [[0., 0., 0.],\n",
       "        [0., 0., 0.]],\n",
       "\n",
       "       [[0., 0., 0.],\n",
       "        [0., 0., 0.]],\n",
       "\n",
       "       [[1., 1., 1.],\n",
       "        [1., 1., 1.]],\n",
       "\n",
       "       [[1., 1., 1.],\n",
       "        [1., 1., 1.]],\n",
       "\n",
       "       [[1., 1., 1.],\n",
       "        [1., 1., 1.]]])"
      ]
     },
     "execution_count": 237,
     "metadata": {},
     "output_type": "execute_result"
    }
   ],
   "source": [
    "appd = np.append(zeroes, new_array,axis=0) # axis 0 = row, axis 1 = coulm\n",
    "appd"
   ]
  },
  {
   "cell_type": "code",
   "execution_count": 238,
   "id": "63916ac5-07dc-405f-b21c-6ada86f8a308",
   "metadata": {},
   "outputs": [],
   "source": [
    "# Insert "
   ]
  },
  {
   "cell_type": "code",
   "execution_count": 239,
   "id": "2cd9f739-4267-4c70-b916-671ad66e1686",
   "metadata": {},
   "outputs": [
    {
     "data": {
      "text/plain": [
       "array([[[0., 0., 0.],\n",
       "        [0., 0., 0.]],\n",
       "\n",
       "       [[0., 0., 0.],\n",
       "        [0., 0., 0.]],\n",
       "\n",
       "       [[0., 0., 0.],\n",
       "        [0., 0., 0.]]])"
      ]
     },
     "execution_count": 239,
     "metadata": {},
     "output_type": "execute_result"
    }
   ],
   "source": [
    "zeroes"
   ]
  },
  {
   "cell_type": "code",
   "execution_count": 240,
   "id": "6b91686f-7264-4cc7-bbdc-87bbb7405010",
   "metadata": {},
   "outputs": [
    {
     "data": {
      "text/plain": [
       "array([[[1., 1., 1.],\n",
       "        [1., 1., 1.]],\n",
       "\n",
       "       [[1., 1., 1.],\n",
       "        [1., 1., 1.]],\n",
       "\n",
       "       [[1., 1., 1.],\n",
       "        [1., 1., 1.]]])"
      ]
     },
     "execution_count": 240,
     "metadata": {},
     "output_type": "execute_result"
    }
   ],
   "source": [
    "new_array"
   ]
  },
  {
   "cell_type": "code",
   "execution_count": 241,
   "id": "aed74f07-67a1-4782-a1d8-09d10c86571d",
   "metadata": {},
   "outputs": [],
   "source": [
    "inserted_array = np.insert(zeroes, 1, new_array, axis=0)"
   ]
  },
  {
   "cell_type": "code",
   "execution_count": 242,
   "id": "f0ec3dc2-de23-4a14-9c0f-5239b7d5f8b1",
   "metadata": {},
   "outputs": [
    {
     "data": {
      "text/plain": [
       "array([[[0., 0., 0.],\n",
       "        [0., 0., 0.]],\n",
       "\n",
       "       [[1., 1., 1.],\n",
       "        [1., 1., 1.]],\n",
       "\n",
       "       [[1., 1., 1.],\n",
       "        [1., 1., 1.]],\n",
       "\n",
       "       [[1., 1., 1.],\n",
       "        [1., 1., 1.]],\n",
       "\n",
       "       [[0., 0., 0.],\n",
       "        [0., 0., 0.]],\n",
       "\n",
       "       [[0., 0., 0.],\n",
       "        [0., 0., 0.]]])"
      ]
     },
     "execution_count": 242,
     "metadata": {},
     "output_type": "execute_result"
    }
   ],
   "source": [
    "inserted_array"
   ]
  },
  {
   "cell_type": "markdown",
   "id": "ee25576e-93a7-457b-b91e-2eb665097dcf",
   "metadata": {},
   "source": [
    "### Delete"
   ]
  },
  {
   "cell_type": "code",
   "execution_count": 243,
   "id": "52fc77d2-c8d4-45a2-b36e-eb6db8c14f94",
   "metadata": {},
   "outputs": [
    {
     "data": {
      "text/plain": [
       "array([[[0.84325428, 0.9959071 , 0.01976154],\n",
       "        [0.31917442, 0.03753614, 0.02169414]],\n",
       "\n",
       "       [[0.04436386, 0.50585625, 0.98387242],\n",
       "        [0.94520621, 0.65930755, 0.09646642]],\n",
       "\n",
       "       [[0.8929239 , 0.15070852, 0.58354055],\n",
       "        [0.71318022, 0.01695865, 0.31159213]]])"
      ]
     },
     "execution_count": 243,
     "metadata": {},
     "output_type": "execute_result"
    }
   ],
   "source": [
    "arr4 = np.random.rand(3,2,3)\n",
    "arr4"
   ]
  },
  {
   "cell_type": "code",
   "execution_count": 245,
   "id": "847d9f39-68e1-4922-a095-f9339fc78bf6",
   "metadata": {},
   "outputs": [],
   "source": [
    "# delete the array\n",
    "arr5=np.delete(arr4,0,axis=1)"
   ]
  },
  {
   "cell_type": "code",
   "execution_count": 246,
   "id": "839ceaa0-3877-43ef-8a25-6f5277b9b7e9",
   "metadata": {},
   "outputs": [
    {
     "data": {
      "text/plain": [
       "array([[[0.31917442, 0.03753614, 0.02169414]],\n",
       "\n",
       "       [[0.94520621, 0.65930755, 0.09646642]],\n",
       "\n",
       "       [[0.71318022, 0.01695865, 0.31159213]]])"
      ]
     },
     "execution_count": 246,
     "metadata": {},
     "output_type": "execute_result"
    }
   ],
   "source": [
    "arr5"
   ]
  },
  {
   "cell_type": "code",
   "execution_count": 247,
   "id": "d8af653d-7df3-420d-a431-f6763f8fef48",
   "metadata": {},
   "outputs": [],
   "source": [
    "np.save(\"new_array\",arr5)"
   ]
  },
  {
   "cell_type": "code",
   "execution_count": 249,
   "id": "f710ea46-81fa-4d9c-a321-0187a27dafe0",
   "metadata": {},
   "outputs": [
    {
     "data": {
      "text/plain": [
       "array([[[0.31917442, 0.03753614, 0.02169414]],\n",
       "\n",
       "       [[0.94520621, 0.65930755, 0.09646642]],\n",
       "\n",
       "       [[0.71318022, 0.01695865, 0.31159213]]])"
      ]
     },
     "execution_count": 249,
     "metadata": {},
     "output_type": "execute_result"
    }
   ],
   "source": [
    "np.load(\"new_array.npy\")"
   ]
  },
  {
   "cell_type": "code",
   "execution_count": null,
   "id": "d30f4478-3982-4623-9b72-ef46ad8bd8d4",
   "metadata": {},
   "outputs": [],
   "source": []
  }
 ],
 "metadata": {
  "kernelspec": {
   "display_name": "Python 3 (ipykernel)",
   "language": "python",
   "name": "python3"
  },
  "language_info": {
   "codemirror_mode": {
    "name": "ipython",
    "version": 3
   },
   "file_extension": ".py",
   "mimetype": "text/x-python",
   "name": "python",
   "nbconvert_exporter": "python",
   "pygments_lexer": "ipython3",
   "version": "3.13.5"
  }
 },
 "nbformat": 4,
 "nbformat_minor": 5
}
